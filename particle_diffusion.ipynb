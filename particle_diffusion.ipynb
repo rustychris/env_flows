{
 "cells": [
  {
   "cell_type": "markdown",
   "metadata": {},
   "source": [
    "A Diffusion \"Experiment\"\n",
    "==\n",
    "\n",
    "This notebook is a simulation of\n",
    "random parcel motion, and how the resulting\n",
    "fluxes relate to a diffusion coefficient.\n",
    "![box_setup.png](box_setup.png \"Box Setup\")\n",
    "\n",
    "The setup for our experiment is a rectangular box, in which fluid parcels\n",
    "are randomly distributed. Each parcel has a concentration which it retains\n",
    "throughout the experiment. The simulation carries out a random walk with\n",
    "a given length scale and time scale. The parcel concentrations are\n",
    "initialized to represent a linear gradient $\\frac{\\partial C}{\\partial x}$.\n",
    "We are interested in the flux of tracer mass through an imaginary surface\n",
    "in the middle of the box, perpendicular to the $x$ axis.\n",
    "\n",
    "As the simulation steps forward in time several quantities are recorded:\n",
    "\n",
    " * time $t$\n",
    " * the gradient $\\frac{\\partial C}{\\partial x}$\n",
    " * the mass of tracer on the *left* side of the imaginary surface. The box is closed\n",
    "   such that any change in tracer mass on the left side is due to a flux through the\n",
    "   surface in the middle of the box.\n",
    "\n",
    "After recording this data from the experiment, we then compare (a) the observed\n",
    "flux, (b) the diffusion coefficient inferred from this flux, and (c) the diffusion\n",
    "coefficient we would expect from a simple scaling.\n",
    "\n",
    "This notebook is a mix of text blocks (this is one), code blocks (just below here), and the output from\n",
    "running the code blocks."
   ]
  },
  {
   "cell_type": "markdown",
   "metadata": {},
   "source": [
    "Housekeeping: load libraries for computation and plotting\n",
    "--"
   ]
  },
  {
   "cell_type": "code",
   "execution_count": null,
   "metadata": {},
   "outputs": [],
   "source": [
    "# Set up the notebook for computation and live plotting\n",
    "from bokeh.io import push_notebook, show, output_notebook\n",
    "from bokeh.layouts import row\n",
    "from bokeh.plotting import figure\n",
    "from bokeh import palettes\n",
    "from bokeh.transform import linear_cmap\n",
    "from bokeh.models import ColorBar, ColumnDataSource\n",
    "output_notebook()\n",
    "# Load code to make our simulation interactive in this notebook.\n",
    "import ipywidgets as widgets\n",
    "# Our simulation will use functions from numpy\n",
    "import numpy as np\n",
    "\n",
    "print(\"This is what code output looks like\")"
   ]
  },
  {
   "cell_type": "code",
   "execution_count": 1,
   "metadata": {},
   "outputs": [
    {
     "data": {
      "text/html": [
       "<!-- fix icon for rewind button -->\n",
       "<style> i.fa-stop:before { content: \"❚◀\"; } </style>\n"
      ],
      "text/plain": [
       "<IPython.core.display.HTML object>"
      ]
     },
     "metadata": {},
     "output_type": "display_data"
    }
   ],
   "source": [
    "%%html\n",
    "<!-- fix icon for rewind button -->\n",
    "<style> i.fa-stop:before { content: \"❚◀\"; } </style>"
   ]
  },
  {
   "cell_type": "markdown",
   "metadata": {},
   "source": [
    "Define the parameters of the simulation\n",
    "--"
   ]
  },
  {
   "cell_type": "code",
   "execution_count": null,
   "metadata": {},
   "outputs": [],
   "source": [
    "N=4000 # number of parcels\n",
    "L_m=1.00 # length scale for random steps\n",
    "dt=1.0 # time scale for random steps\n",
    "# dimensions of the box the particles move around in.\n",
    "box=[ [-50,50], # range of x dimension \n",
    "      [-20,20], # range of y dimension\n",
    "      [-1,1]] # range of z dimension\n",
    "# We will look at the flux through a surface in the middle of\n",
    "# the box, perpendicular to the x axis. \n",
    "box_size=[ high-low for low,high in box]\n",
    "box_A=box_size[1]*box_size[2] # area of that surface\n",
    "box_V=box_size[0]*box_size[1]*box_size[2] # volume of the whole box.\n",
    "center_x=(box[0][0] + box[0][1])/2.0 # measure fluxes through surface x=center_x"
   ]
  },
  {
   "cell_type": "markdown",
   "metadata": {},
   "source": [
    "Define the simulation\n",
    "--\n",
    "\n",
    "Define the initial simulation state (parcel locations and concentrations),\n",
    "how the state evolves in time, and how data is extracted at each step\n",
    "for later analysis"
   ]
  },
  {
   "cell_type": "code",
   "execution_count": null,
   "metadata": {},
   "outputs": [],
   "source": [
    "def initialize():\n",
    "    # These define the instantaneous state of the simulation\n",
    "    global parcel_x,parcel_C,t\n",
    "    # These quantities we record as time progresses\n",
    "    global mass_on_left, times, gradients, C_center\n",
    "\n",
    "    # Set the initial conditions:\n",
    "    t=0.0 # simulation time.\n",
    "    parcel_x=np.zeros( [N,3], np.float64) # [Nparcels,{x,y,z}] ~ meters\n",
    "    for dim in [0,1,2]:\n",
    "        # Parcels randomly distributed throughout the domain\n",
    "        parcel_x[:,dim]=np.random.uniform( box[dim][0], box[dim][1], size=N)\n",
    "\n",
    "    # parcel concentration is initialize with the x coordinate to create a \n",
    "    # smooth gradient in x.\n",
    "    parcel_C=box_size[0]+parcel_x[:,0] # [Nparcels] ~ g/m3 (concentration)\n",
    "\n",
    "    # Simulation will update parcel locations, and at each step\n",
    "    # calculate these summary quantities:\n",
    "    mass_on_left=[] # mass of tracer on the left side of the box [Ntimesteps]~g\n",
    "    times=[]        # simulation time associated with each step. [Ntimesteps]~s\n",
    "    gradients=[]    # concentration gradient [Ntimesteps]~ (g/m3)/m\n",
    "    C_center=[]     # concentration at the center of the box.\n",
    "\n",
    "# The code for our simulation has two tasks:\n",
    "#  1. Update the state (parcel_x,t)\n",
    "#  2. Record summary information\n",
    "\n",
    "def step_forward():\n",
    "    global parcel_x,t\n",
    "\n",
    "    # For each direction, add a random jump, uniformly\n",
    "    # random between [-L,+L]\n",
    "    for dim in [0,1,2]:\n",
    "        parcel_x[:,dim]+=np.random.uniform(low=-L_m,high=L_m,size=N)\n",
    "        \n",
    "        # Parcels that would leave our box get \"bounced\"\n",
    "        # back into the box\n",
    "        outside=parcel_x[:,dim] - parcel_x[:,dim].clip(*box[dim])\n",
    "        parcel_x[:,dim]-=2*outside\n",
    "    t+=dt\n",
    "    \n",
    "def record():\n",
    "    times.append(t)\n",
    "    C_left=np.mean(parcel_C[ parcel_x[:,0]<center_x])\n",
    "    V_left=(center_x-box[0][0])*box_size[1]*box_size[2]\n",
    "    mass_on_left.append( C_left*V_left )\n",
    "    slope,inter =np.polyfit(parcel_x[:,0],parcel_C,1)\n",
    "    gradients.append(slope)\n",
    "    # Estimate center concentration from the 20 nearest parcels\n",
    "    C_center.append( parcel_C[np.argsort(np.abs(parcel_x[:,0]-center_x))[:20]].mean())\n",
    "\n",
    "initialize() # Create initial state\n",
    "record() # Save the initial state."
   ]
  },
  {
   "cell_type": "markdown",
   "metadata": {},
   "source": [
    "Plot the simulation state\n",
    "--\n",
    "\n",
    "Plot parcels and set up the animation."
   ]
  },
  {
   "cell_type": "code",
   "execution_count": null,
   "metadata": {},
   "outputs": [],
   "source": [
    "parcel_data=ColumnDataSource(dict(x=parcel_x[:,0],\n",
    "                                  y=parcel_x[:,1],\n",
    "                                  C=parcel_C))\n",
    "\n",
    "# Format current time of the simulation\n",
    "def title_txt(): return f\"t={t:.1f}s\"\n",
    "\n",
    "colors=linear_cmap(field_name='C',low=parcel_C.min(),high=parcel_C.max(),\n",
    "                   palette=palettes.Plasma256)\n",
    "p = figure(x_range=box[0], y_range=box[1],plot_width=800, plot_height=300,\n",
    "           toolbar_location=None,title=title_txt())\n",
    "r = p.circle(x='x',y='y', radius=box_size[0]*0.005, fill_color=colors, fill_alpha=0.6, \n",
    "             line_color=None, source=parcel_data)\n",
    "color_bar = ColorBar(color_mapper=colors['transform'], width=8,  location=(0,0),\n",
    "                     title=\"Conc. (g/m3)\")\n",
    "p.line(x=[center_x,center_x],y=box[1],line_color='black',line_dash='dashed',line_width=2.5)\n",
    "p.add_layout(color_bar, 'right')\n",
    "\n",
    "# get an explicit handle to update the next show cell with\n",
    "target = show(p, notebook_handle=True)\n",
    "\n",
    "def plot_update(step,length):\n",
    "    # Update the simulation state for the given step number\n",
    "    # and length scale\n",
    "    global L_m\n",
    "    L_m=length\n",
    "    if (step==0) and (t>0):\n",
    "        initialize()\n",
    "        r.data_source.data['C']=parcel_C\n",
    "    elif step>0:\n",
    "        step_forward()\n",
    "    record()\n",
    "\n",
    "    r.data_source.data['x']=parcel_x[:,0]\n",
    "    r.data_source.data['y']=parcel_x[:,1]\n",
    "    p.title.text=title_txt()\n",
    "    push_notebook(handle=target)\n",
    "        \n",
    "widgets.interact(plot_update,\n",
    "                 step=widgets.Play(value=0,\n",
    "                                   min=0, max=10000,\n",
    "                                   step=1, interval=20),\n",
    "                 length=widgets.FloatSlider(value=L_m,min=0,max=8.0,\n",
    "                                        step=0.005,\n",
    "                                        description='L_m:',\n",
    "                                        orientation='horizontal',\n",
    "                                        readout=True,\n",
    "                                        readout_format='.3f'))\n",
    ";"
   ]
  },
  {
   "cell_type": "markdown",
   "metadata": {},
   "source": [
    "How did the center concentration evolve over time?\n",
    "--\n",
    "We expect concentration to follow the diffusion equation:\n",
    "$$ \\frac{\\partial C}{\\partial t} = D \\frac{\\partial^2 C}{\\partial x^2}$$"
   ]
  },
  {
   "cell_type": "code",
   "execution_count": null,
   "metadata": {},
   "outputs": [],
   "source": [
    "p3=figure(plot_width=800, plot_height=300,\n",
    "          y_range=[parcel_C.min(),parcel_C.max()])\n",
    "p3.line(times,C_center)\n",
    "p3.xaxis.axis_label='Time (s)'\n",
    "p3.yaxis.axis_label='Conc. at center (g/m^3)'\n",
    "show(p3)"
   ]
  },
  {
   "cell_type": "markdown",
   "metadata": {},
   "source": [
    "Mass and Flux\n",
    "--\n",
    "Before getting to flux, how did the tracer mass on the left side evolve?  "
   ]
  },
  {
   "cell_type": "code",
   "execution_count": null,
   "metadata": {},
   "outputs": [],
   "source": [
    "p2 = figure(plot_width=800, plot_height=300)\n",
    "p2.line(times,mass_on_left)\n",
    "p2.xaxis.axis_label='Time (s)'\n",
    "p2.yaxis.axis_label='Mass on left side (g)'\n",
    "show(p2)"
   ]
  },
  {
   "cell_type": "markdown",
   "metadata": {},
   "source": [
    "Calculate mean flux and mean gradient\n",
    "--\n",
    "\n",
    "Define the flux $J_x$ as positive in the $+x$ direction. If we draw out a mass balance for the left side of the box we can see that the change in tracer mass can only come from a flux through the surface in the center of the box.  From there we can relate flux to $d m_L / dt$: \n",
    "\n",
    "$$J_x = - \\frac{1}{A} \\frac{d m_{L}}{dt}$$\n",
    "\n",
    "Where $m_L$ is the mass on the left side of the domain.\n",
    "\n",
    "Calculate both the flux $J_x$ and gradient $\\partial C/\\partial x$\n",
    "as an average from $t=0$ to $t=t_{last}$\n"
   ]
  },
  {
   "cell_type": "code",
   "execution_count": null,
   "metadata": {},
   "outputs": [],
   "source": [
    "delta_m=(mass_on_left[-1] - mass_on_left[0])\n",
    "delta_t=(times[-1] - times[0])\n",
    "m_dot=delta_m/delta_t # ~ g/s\n",
    "flux=-m_dot/box_A # ~ g/s/m2\n",
    "print(f\"flux={flux:.3f} g/(m^2 s) averaged from t={times[0]}s to t={times[-1]}s\")"
   ]
  },
  {
   "cell_type": "code",
   "execution_count": null,
   "metadata": {},
   "outputs": [],
   "source": [
    "gradient=np.mean(gradients)\n",
    "print(f\"Average gradient so far: {gradient:.3f} (g/m3)/m\")"
   ]
  },
  {
   "cell_type": "markdown",
   "metadata": {},
   "source": [
    "Estimate $D$ from the experiment\n",
    "--\n",
    "\n",
    "Based on our definition of Fickian flux:\n",
    "$$J_x = -D \\frac{\\partial C}{\\partial x}$$"
   ]
  },
  {
   "cell_type": "code",
   "execution_count": null,
   "metadata": {},
   "outputs": [],
   "source": [
    "Dobs=-flux / gradient\n",
    "print(f\"Observed diffusion coefficient: {Dobs:.3f} m^2/s\")"
   ]
  },
  {
   "cell_type": "markdown",
   "metadata": {},
   "source": [
    "Estimate $D$ by Scaling\n",
    "--"
   ]
  },
  {
   "cell_type": "code",
   "execution_count": null,
   "metadata": {},
   "outputs": [],
   "source": [
    "u_m=L_m/dt\n",
    "print(f\"Velocity scale: {u_m:.3f}m/s\")\n",
    "Dscaled=u_m*L_m\n",
    "print(f\"Estimated diffusion coefficent from scaling: {Dscaled:7.3f} m^2/s\")\n",
    "print(f\"             Observed diffusion coefficient: {Dobs:7.3f} m^2/s\")"
   ]
  },
  {
   "cell_type": "markdown",
   "metadata": {},
   "source": [
    "The sign is correct. Order of magnitude is  ... *close*. \n",
    "\n",
    "For scaling relationships and the\n",
    "types of approximations we will encounter, that is often as good as it gets.\n",
    "\n",
    "But why are we off by nearly an order of magnitude? How can this be improved?"
   ]
  },
  {
   "cell_type": "code",
   "execution_count": null,
   "metadata": {},
   "outputs": [],
   "source": [
    "\n",
    "\n",
    "\n",
    "\n",
    "\n",
    "\n",
    "\n",
    "\n",
    "\n",
    "\n",
    "\n",
    "\n",
    "\n",
    "\n",
    "\n",
    "\n",
    "\n",
    "\n"
   ]
  },
  {
   "cell_type": "markdown",
   "metadata": {},
   "source": [
    "\n",
    "\n",
    "\n",
    "Fokker-Planck Solution for Random Walks\n",
    "--\n",
    "\n",
    "The Fokker-Planck equation is a stochastic differential equation\n",
    "that links our continuous view of diffusion (and advection) to \n",
    "the probability distribution of particle movement. \n",
    "\n",
    "For this experiment, we can use a simplified solution to F-P from\n",
    "Visser:\n",
    "\n",
    "Assuming a uniform $D$, and a uniform random variable $R \\in [-1,1]$,\n",
    "particle steps along a specific axis are given by:\n",
    "\n",
    "$$ \\Delta x = R  \\sqrt{2 r^{-1} D \\Delta t} $$ \n",
    "\n",
    "where $r$ is the standard deviation of $R$, $r=\\sqrt{E[R^2]}=1/3$.\n",
    "\n",
    "In our \"experiment\" $\\Delta x$ is uniform over $[-L,L]$, \n",
    "equivalent to assuming $\\sqrt{2r^{-1}D\\Delta t}=L$.\n",
    "\n",
    "In that case, the $D$ that is *actually* simulated is:\n",
    "\n",
    "$$D = \\frac{r}{2} \\frac{L^2}{\\Delta t} = \\frac{D_{scaled}}{6}$$"
   ]
  },
  {
   "cell_type": "code",
   "execution_count": null,
   "metadata": {},
   "outputs": [],
   "source": [
    "Dapp=u_m*L_m/6\n",
    "print(f\"Scaled D:       {Dscaled:7.3f} m^2/s\")\n",
    "print(f\"Observed D:     {Dobs:7.3f} m^2/s\")\n",
    "print(f\"Approximated D: {Dapp:7.3f} m^2/s\")"
   ]
  },
  {
   "cell_type": "markdown",
   "metadata": {},
   "source": [
    "Still not exact?? Chalk it up to unsteadiness and randomness.\n",
    "\n",
    "Note that the gradient is changing in time, and it can take very large numbers of particles to even out the noise of a random process. As the number of particles is increased and the walls of the box moved away from our area of interest, the observed and expected diffusion coefficients will converge.\n"
   ]
  },
  {
   "cell_type": "code",
   "execution_count": null,
   "metadata": {},
   "outputs": [],
   "source": [
    "# Style settings\n",
    "# !jt -t grade3 -nfs 10 -lineh 115 -ofs 14 -tfs 14 -m 0.1,0.1,0.1,0.1 -cellw 90%"
   ]
  }
 ],
 "metadata": {
  "kernelspec": {
   "display_name": "Python 3",
   "language": "python",
   "name": "python3"
  },
  "language_info": {
   "codemirror_mode": {
    "name": "ipython",
    "version": 3
   },
   "file_extension": ".py",
   "mimetype": "text/x-python",
   "name": "python",
   "nbconvert_exporter": "python",
   "pygments_lexer": "ipython3",
   "version": "3.9.1"
  }
 },
 "nbformat": 4,
 "nbformat_minor": 4
}
